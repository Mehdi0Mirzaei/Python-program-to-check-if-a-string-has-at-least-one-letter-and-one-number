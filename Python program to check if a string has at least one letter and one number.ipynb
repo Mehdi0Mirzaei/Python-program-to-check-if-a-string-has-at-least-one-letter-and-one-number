{
 "cells": [
  {
   "cell_type": "code",
   "execution_count": 17,
   "id": "ee48c921",
   "metadata": {},
   "outputs": [],
   "source": [
    "def checkString(str):\n",
    " # initializing flag variable\n",
    "    flag_l = False\n",
    "    flag_n = False\n",
    " # checking for letter and numbers in\n",
    "    # given string\n",
    "    for i in str:\n",
    " # if string has letter\n",
    "        if i.isalpha():\n",
    "            flag_l = True\n",
    " # if string has number\n",
    "        if i.isdigit():\n",
    "            flag_n = True\n",
    " # returning and of flag\n",
    "    # for checking required condition\n",
    "    return flag_l and flag_n"
   ]
  },
  {
   "cell_type": "code",
   "execution_count": 23,
   "id": "692fe921",
   "metadata": {},
   "outputs": [],
   "source": [
    "string1=\"some random text\""
   ]
  },
  {
   "cell_type": "code",
   "execution_count": 24,
   "id": "c79c0443",
   "metadata": {},
   "outputs": [],
   "source": [
    "string2=\"some random texet 2\""
   ]
  },
  {
   "cell_type": "code",
   "execution_count": 25,
   "id": "bc2a04f8",
   "metadata": {},
   "outputs": [
    {
     "data": {
      "text/plain": [
       "False"
      ]
     },
     "execution_count": 25,
     "metadata": {},
     "output_type": "execute_result"
    }
   ],
   "source": [
    "checkString(string1)"
   ]
  },
  {
   "cell_type": "code",
   "execution_count": 26,
   "id": "f4609c52",
   "metadata": {},
   "outputs": [
    {
     "data": {
      "text/plain": [
       "True"
      ]
     },
     "execution_count": 26,
     "metadata": {},
     "output_type": "execute_result"
    }
   ],
   "source": [
    "checkString(string2)"
   ]
  },
  {
   "cell_type": "code",
   "execution_count": 27,
   "id": "ee759410",
   "metadata": {},
   "outputs": [
    {
     "name": "stdout",
     "output_type": "stream",
     "text": [
      "False\n",
      "True\n"
     ]
    }
   ],
   "source": [
    "def checkString(str):\n",
    "     # initializing flag variable\n",
    "    flag_l = False\n",
    "    flag_n = False\n",
    "     \n",
    "    # checking for letter and numbers in\n",
    "    # given string\n",
    "    for i in str:\n",
    "             # if string has letter\n",
    "        if i in \"abcdefghijklmnopqrstuvwxyz\":\n",
    "            flag_l = True\n",
    "         # if string has number\n",
    "        if i in \"0123456789\":\n",
    "            flag_n = True\n",
    "         # returning and of flag\n",
    "    # for checking required condition\n",
    "    return flag_l and flag_n\n",
    " \n",
    " # driver code\n",
    "print(checkString(string1))\n",
    "print(checkString(string2))"
   ]
  },
  {
   "cell_type": "code",
   "execution_count": 28,
   "id": "e9f8abea",
   "metadata": {},
   "outputs": [
    {
     "name": "stdout",
     "output_type": "stream",
     "text": [
      "False\n",
      "True\n"
     ]
    }
   ],
   "source": [
    "def checkString(str):\n",
    "    # Create sets of letters and digits\n",
    "    letters = set('abcdefghijklmnopqrstuvwxyzABCDEFGHIJKLMNOPQRSTUVWXYZ')\n",
    "    digits = set('0123456789')\n",
    "    # Check if the intersection of the input string and the sets of letters and digits is not empty\n",
    "    return bool(letters & set(str)) and bool(digits & set(str))\n",
    "# Test the function with two sample inputs\n",
    "print(checkString(string1))\n",
    "print(checkString(string2))"
   ]
  },
  {
   "cell_type": "code",
   "execution_count": 29,
   "id": "5d8360c7",
   "metadata": {},
   "outputs": [
    {
     "name": "stdout",
     "output_type": "stream",
     "text": [
      "True\n",
      "False\n"
     ]
    }
   ],
   "source": [
    "checkString = lambda s: any(c.isalpha() for c in s) and any(c.isdigit() for c in s)\n",
    " \n",
    "# driver code\n",
    "print(checkString(string2))\n",
    "print(checkString(string1))"
   ]
  },
  {
   "cell_type": "code",
   "execution_count": null,
   "id": "e1c0de4e",
   "metadata": {},
   "outputs": [],
   "source": []
  }
 ],
 "metadata": {
  "kernelspec": {
   "display_name": "Python 3 (ipykernel)",
   "language": "python",
   "name": "python3"
  },
  "language_info": {
   "codemirror_mode": {
    "name": "ipython",
    "version": 3
   },
   "file_extension": ".py",
   "mimetype": "text/x-python",
   "name": "python",
   "nbconvert_exporter": "python",
   "pygments_lexer": "ipython3",
   "version": "3.9.13"
  }
 },
 "nbformat": 4,
 "nbformat_minor": 5
}
